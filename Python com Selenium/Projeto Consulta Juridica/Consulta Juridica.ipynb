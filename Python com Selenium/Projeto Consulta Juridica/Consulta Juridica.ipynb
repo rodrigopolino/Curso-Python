{
 "cells": [
  {
   "cell_type": "code",
   "execution_count": 1,
   "id": "34390d63-1896-4547-8592-73ae65acb1c3",
   "metadata": {},
   "outputs": [],
   "source": [
    "from selenium import webdriver\n",
    "from selenium.webdriver.chrome.service import Service\n",
    "from webdriver_manager.chrome import ChromeDriverManager\n",
    "from selenium.webdriver.common.by import By\n",
    "from selenium.webdriver.common.keys import Keys\n",
    "from selenium.webdriver.support.select import Select\n",
    "from selenium.webdriver import ActionChains\n",
    "from selenium.webdriver.common.alert import Alert\n",
    "\n",
    "#criar navegador\n",
    "servico = Service(ChromeDriverManager().install())\n",
    "navegador = webdriver.Chrome(service=servico)    #inicializa o navegador\n",
    "\n",
    "#abrir a página index (entrar no site da busca jurídica)\n",
    "import os\n",
    "\n",
    "caminho = os.getcwd() #pasta que está o código\n",
    "arquivo = caminho + r\"\\index.html\"\n",
    "\n",
    "navegador.get(arquivo)"
   ]
  },
  {
   "cell_type": "code",
   "execution_count": 2,
   "id": "b1e0e9fd-e318-4ed0-805a-52a16656ce09",
   "metadata": {},
   "outputs": [],
   "source": [
    "#Escolher o estado\n",
    "\n",
    "#abrir a lista de cidades\n",
    "botao = navegador.find_element(By.XPATH, '/html/body/div/div/button')\n",
    "ActionChains(navegador).move_to_element(botao).perform()\n",
    "\n",
    "#Distrito Federal\n",
    "navegador.find_element(By.XPATH, '/html/body/div/div/div/a[1]').click()"
   ]
  },
  {
   "cell_type": "code",
   "execution_count": 3,
   "id": "54a0cb28-09ac-4c08-8483-8784871ce138",
   "metadata": {},
   "outputs": [],
   "source": [
    "#Mudar para a nova aba\n",
    "aba_original = navegador.window_handles[0]\n",
    "nova_aba = navegador.window_handles[1]\n",
    "\n",
    "navegador.switch_to.window(nova_aba)"
   ]
  },
  {
   "cell_type": "code",
   "execution_count": 4,
   "id": "3371177b-d7f8-4d4f-bc6e-f9dffd946efe",
   "metadata": {},
   "outputs": [],
   "source": [
    "#Preencher o formulário com os dados de busca\n",
    "\n",
    "#nome da parte\n",
    "navegador.find_element(By.NAME, 'nome').send_keys('Rodrigo Polino Filippini')\n",
    "#advogado\n",
    "navegador.find_element(By.ID, 'advogado').send_keys('Olinto Filatro Filippini')\n",
    "#número do processo\n",
    "navegador.find_element(By.ID, 'numero').send_keys('123456789')\n",
    "\n",
    "#Clicar em pesquisar\n",
    "navegador.find_element(By.CLASS_NAME, 'registerbtn').click()"
   ]
  },
  {
   "cell_type": "code",
   "execution_count": 5,
   "id": "99dcf6a2-8510-46d1-8e42-4019d39a0195",
   "metadata": {},
   "outputs": [],
   "source": [
    "#Confirmar pesquisa\n",
    "#from selenium.webdriver.common.alert import Alert\n",
    "alerta = Alert(navegador)\n",
    "alerta.accept()"
   ]
  },
  {
   "cell_type": "code",
   "execution_count": 6,
   "id": "23831d52-5f5b-481f-b011-e95bbbd7b8e1",
   "metadata": {},
   "outputs": [
    {
     "name": "stdout",
     "output_type": "stream",
     "text": [
      "Processo encontrado\n"
     ]
    }
   ],
   "source": [
    "#Esperar o resultado da pesquisa e agir de acordo com o resultado\n",
    "\n",
    "import time\n",
    "\n",
    "while True:\n",
    "    try:\n",
    "        alerta = navegador.switch_to.alert\n",
    "        break\n",
    "    except:\n",
    "        time.sleep(1)\n",
    "texto_alerta = alerta.text\n",
    "\n",
    "if \"Processo encontrado com sucesso\" in texto_alerta:\n",
    "    alerta.accept()\n",
    "    print(\"Processo encontrado\")\n",
    "else:\n",
    "    print(\"Processo não encontrado\")\n",
    "    alerta.accept()"
   ]
  },
  {
   "cell_type": "code",
   "execution_count": null,
   "id": "67fc26fa-22de-4d03-923e-c90223b49a4a",
   "metadata": {},
   "outputs": [],
   "source": []
  }
 ],
 "metadata": {
  "kernelspec": {
   "display_name": "Python 3 (ipykernel)",
   "language": "python",
   "name": "python3"
  },
  "language_info": {
   "codemirror_mode": {
    "name": "ipython",
    "version": 3
   },
   "file_extension": ".py",
   "mimetype": "text/x-python",
   "name": "python",
   "nbconvert_exporter": "python",
   "pygments_lexer": "ipython3",
   "version": "3.11.7"
  }
 },
 "nbformat": 4,
 "nbformat_minor": 5
}
