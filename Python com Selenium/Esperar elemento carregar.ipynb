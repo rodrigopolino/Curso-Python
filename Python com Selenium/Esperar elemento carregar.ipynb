{
 "cells": [
  {
   "cell_type": "code",
   "execution_count": 20,
   "id": "b8dcefe6-de11-4422-b951-ed92bd1d852e",
   "metadata": {},
   "outputs": [],
   "source": [
    "from selenium import webdriver\n",
    "from selenium.webdriver.chrome.service import Service\n",
    "from webdriver_manager.chrome import ChromeDriverManager\n",
    "from selenium.webdriver.common.by import By\n",
    "from selenium.webdriver.common.keys import Keys\n",
    "from selenium.webdriver.support.select import Select\n",
    "\n",
    "servico = Service(ChromeDriverManager().install())\n",
    "navegador = webdriver.Chrome(service=servico)    #inicializa o navegador"
   ]
  },
  {
   "cell_type": "code",
   "execution_count": 8,
   "id": "df389353-c1ef-4b0e-9957-59872f27d983",
   "metadata": {},
   "outputs": [],
   "source": [
    "#Na marra\n",
    "\n",
    "import time\n",
    "\n",
    "navegador.get(\"https://www.hashtagtreinamentos.com/\")\n",
    "time.sleep(15)\n",
    "navegador.find_element(By.CLASS_NAME, 'eicon-close').click()"
   ]
  },
  {
   "cell_type": "code",
   "execution_count": 16,
   "id": "67f91479-2471-492e-8590-dc800ecf8c94",
   "metadata": {},
   "outputs": [],
   "source": [
    "#loop\n",
    "\n",
    "import time\n",
    "navegador.get(\"https://www.hashtagtreinamentos.com/\")\n",
    "\n",
    "while len(navegador.find_elements(By.CLASS_NAME, 'eicon-close')) < 1:\n",
    "    time.sleep(1)\n",
    "time.sleep(1) #tempo para garantir\n",
    "navegador.find_element(By.CLASS_NAME, 'eicon-close').click()"
   ]
  },
  {
   "cell_type": "code",
   "execution_count": 21,
   "id": "b16281a8-e747-4894-82cb-d1ab644944a6",
   "metadata": {},
   "outputs": [],
   "source": [
    "#EC WebDriver\n",
    "\n",
    "from selenium.webdriver.support.ui import WebDriverWait\n",
    "from selenium.webdriver.support import expected_conditions as EC\n",
    "\n",
    "navegador.get(\"https://www.hashtagtreinamentos.com/\")\n",
    "\n",
    "elemento = WebDriverWait(navegador, 20).until(EC.presence_of_element_located((By.CLASS_NAME, 'eicon-close')))  #tempo máximo que quer experar\n",
    "elemento.click()"
   ]
  },
  {
   "cell_type": "code",
   "execution_count": null,
   "id": "16fe5777-9b67-43bf-8cae-5b284a8d1ffe",
   "metadata": {},
   "outputs": [],
   "source": []
  }
 ],
 "metadata": {
  "kernelspec": {
   "display_name": "Python 3 (ipykernel)",
   "language": "python",
   "name": "python3"
  },
  "language_info": {
   "codemirror_mode": {
    "name": "ipython",
    "version": 3
   },
   "file_extension": ".py",
   "mimetype": "text/x-python",
   "name": "python",
   "nbconvert_exporter": "python",
   "pygments_lexer": "ipython3",
   "version": "3.11.7"
  }
 },
 "nbformat": 4,
 "nbformat_minor": 5
}
