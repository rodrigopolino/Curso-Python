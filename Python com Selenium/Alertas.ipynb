{
 "cells": [
  {
   "cell_type": "code",
   "execution_count": 10,
   "id": "78acf4bc-1791-48d4-9585-5e41203d2750",
   "metadata": {},
   "outputs": [],
   "source": [
    "from selenium import webdriver\n",
    "from selenium.webdriver.chrome.service import Service\n",
    "from webdriver_manager.chrome import ChromeDriverManager\n",
    "from selenium.webdriver.common.by import By\n",
    "from selenium.webdriver.common.keys import Keys\n",
    "from selenium.webdriver.support.select import Select\n",
    "\n",
    "servico = Service(ChromeDriverManager().install())\n",
    "navegador = webdriver.Chrome(service=servico)    #inicializa o navegador\n",
    "\n",
    "import os\n",
    "\n",
    "caminho = os.getcwd() #pasta que está o código\n",
    "arquivo = caminho + r\"\\Alertas.html\"\n",
    "\n",
    "navegador.get(arquivo)"
   ]
  },
  {
   "cell_type": "markdown",
   "id": "2a8ec372-33f2-4abe-86d4-6cc93f18bdeb",
   "metadata": {},
   "source": [
    "### Alertas Básicos"
   ]
  },
  {
   "cell_type": "code",
   "execution_count": 11,
   "id": "7f00a185-c51c-4ace-9743-62e7da033851",
   "metadata": {},
   "outputs": [],
   "source": [
    "#selecionar o alerta\n",
    "navegador.find_element(By.XPATH, '/html/body/div[1]/input').click()"
   ]
  },
  {
   "cell_type": "code",
   "execution_count": 12,
   "id": "f38a5069-4f0b-471c-bf35-f5f641fab803",
   "metadata": {},
   "outputs": [],
   "source": [
    "#forma simples\n",
    "alerta = navegador.switch_to.alert #migra pro alerta\n",
    "\n",
    "#forma 'completa'\n",
    "from selenium.webdriver.common.alert import Alert\n",
    "alerta = Alert(navegador)"
   ]
  },
  {
   "cell_type": "code",
   "execution_count": 13,
   "id": "c68c2d61-bd2f-428c-9e21-e2fa240a54f8",
   "metadata": {},
   "outputs": [],
   "source": [
    "alerta.accept()"
   ]
  },
  {
   "cell_type": "markdown",
   "id": "348d7cf9-f93b-4d5d-af25-463e6fb851f4",
   "metadata": {},
   "source": [
    "### Alertas de Confirmação"
   ]
  },
  {
   "cell_type": "code",
   "execution_count": 14,
   "id": "85e2434f-d50b-46e9-ab92-1bb39f5bb329",
   "metadata": {},
   "outputs": [],
   "source": [
    "#selecionar o alerta\n",
    "navegador.find_element(By.XPATH, '/html/body/div[2]/input').click()\n",
    "alerta = Alert(navegador)\n",
    "\n",
    "#aceitar \n",
    "alerta.accept()\n",
    "#cancelar\n",
    "alerta.dismiss()"
   ]
  },
  {
   "cell_type": "markdown",
   "id": "54e563c2-c4dd-47a1-8434-e27958181743",
   "metadata": {},
   "source": [
    "#### Pegar o texto do alerta"
   ]
  },
  {
   "cell_type": "code",
   "execution_count": 15,
   "id": "87c1b949-a008-493d-97cf-4fa845f9486f",
   "metadata": {},
   "outputs": [
    {
     "name": "stdout",
     "output_type": "stream",
     "text": [
      "Quer confirmar a emissão da NF?\n"
     ]
    }
   ],
   "source": [
    "navegador.find_element(By.XPATH, '/html/body/div[2]/input').click()\n",
    "alerta = Alert(navegador)\n",
    "texto = alerta.text\n",
    "print(texto)"
   ]
  },
  {
   "cell_type": "markdown",
   "id": "cae8014b-fb0d-4b45-8a68-b1aed39d8898",
   "metadata": {},
   "source": [
    "### Alertas de Input"
   ]
  },
  {
   "cell_type": "code",
   "execution_count": 17,
   "id": "2c7b75c4-964d-43fe-b401-3d7285193580",
   "metadata": {},
   "outputs": [],
   "source": [
    "navegador.find_element(By.XPATH, '/html/body/div[3]/button').click()\n",
    "alerta = Alert(navegador)\n",
    "\n",
    "alerta.send_keys('52403273864') #não aparece na tela, pois há um bug\n",
    "alerta.accept()"
   ]
  }
 ],
 "metadata": {
  "kernelspec": {
   "display_name": "Python 3 (ipykernel)",
   "language": "python",
   "name": "python3"
  },
  "language_info": {
   "codemirror_mode": {
    "name": "ipython",
    "version": 3
   },
   "file_extension": ".py",
   "mimetype": "text/x-python",
   "name": "python",
   "nbconvert_exporter": "python",
   "pygments_lexer": "ipython3",
   "version": "3.11.7"
  }
 },
 "nbformat": 4,
 "nbformat_minor": 5
}
