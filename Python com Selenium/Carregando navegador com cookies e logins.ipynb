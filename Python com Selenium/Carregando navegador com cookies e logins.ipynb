{
 "cells": [
  {
   "cell_type": "code",
   "execution_count": 12,
   "id": "a9abf9d1-9e61-4156-baf4-a6434bb8b5ae",
   "metadata": {},
   "outputs": [],
   "source": [
    "from selenium import webdriver\n",
    "from selenium.webdriver.chrome.service import Service\n",
    "from webdriver_manager.chrome import ChromeDriverManager\n",
    "from selenium.webdriver.common.by import By\n",
    "from selenium.webdriver.common.keys import Keys\n",
    "from selenium.webdriver.support.select import Select\n",
    "\n",
    "servico = Service(ChromeDriverManager().install())\n",
    "\n",
    "options = webdriver.ChromeOptions()\n",
    "options.add_argument(r'user-data-dir=C:\\Users\\Rodrigo\\AppData\\Local\\Google\\Chrome\\User Data\\Profile Selenium') #Entrando no meu perfil do google - Criando um perfil Selenium\n",
    "navegador = webdriver.Chrome(service=servico, options=options)    #inicializa o navegador\n",
    "\n",
    "navegador.get(\"https://web.whatsapp.com/\")"
   ]
  }
 ],
 "metadata": {
  "kernelspec": {
   "display_name": "Python 3 (ipykernel)",
   "language": "python",
   "name": "python3"
  },
  "language_info": {
   "codemirror_mode": {
    "name": "ipython",
    "version": 3
   },
   "file_extension": ".py",
   "mimetype": "text/x-python",
   "name": "python",
   "nbconvert_exporter": "python",
   "pygments_lexer": "ipython3",
   "version": "3.11.7"
  }
 },
 "nbformat": 4,
 "nbformat_minor": 5
}
