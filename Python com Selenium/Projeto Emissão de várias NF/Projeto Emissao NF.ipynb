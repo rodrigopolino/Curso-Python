{
 "cells": [
  {
   "cell_type": "code",
   "execution_count": 1,
   "id": "bee8aa01-371a-418f-bcf3-a264935fc26a",
   "metadata": {},
   "outputs": [],
   "source": [
    "from selenium import webdriver\n",
    "from selenium.webdriver.chrome.service import Service\n",
    "from webdriver_manager.chrome import ChromeDriverManager\n",
    "from selenium.webdriver.common.by import By\n",
    "from selenium.webdriver.common.keys import Keys\n",
    "from selenium.webdriver.support.select import Select\n",
    "\n",
    "#Não bloquear downloads\n",
    "options = webdriver.ChromeOptions()\n",
    "options.add_experimental_option(\"prefs\", {\n",
    "  \"download.default_directory\": r\"C:\\Users\\Rodrigo\\downloads\",\n",
    "  \"download.prompt_for_download\": False,\n",
    "  \"download.directory_upgrade\": True,\n",
    "  \"safebrowsing.enabled\": True\n",
    "})\n",
    "\n",
    "servico = Service(ChromeDriverManager().install())\n",
    "navegador = webdriver.Chrome(service=servico, options=options)    #inicializa o navegador"
   ]
  },
  {
   "cell_type": "code",
   "execution_count": 2,
   "id": "d15769ef-f522-4eb1-9c7b-0cd4656817f9",
   "metadata": {},
   "outputs": [],
   "source": [
    "# entrar na pagina de Login (login.html)\n",
    "import os\n",
    "caminho = os.getcwd()\n",
    "arquivo = caminho + r\"\\login.html\"\n",
    "navegador.get(arquivo)\n",
    "\n",
    "#preencher Login e Senha\n",
    "navegador.find_element(By.XPATH, '/html/body/div/form/input[1]').send_keys('rodrigo.polino@outlook.com')\n",
    "navegador.find_element(By.XPATH, '/html/body/div/form/input[2]').send_keys('1234')\n",
    "\n",
    "#Clicar botão Login\n",
    "navegador.find_element(By.TAG_NAME, 'button').click()"
   ]
  },
  {
   "cell_type": "code",
   "execution_count": 3,
   "id": "55a04bf8-82f5-4ba2-9e16-5c9d2b6cb355",
   "metadata": {},
   "outputs": [],
   "source": [
    "#importar a base de clientes\n",
    "\n",
    "import pandas as pd\n",
    "\n",
    "tabela = pd.read_excel(\"NotasEmitir.xlsx\")    \n",
    "#display(tabela.head())"
   ]
  },
  {
   "cell_type": "code",
   "execution_count": 4,
   "id": "534c21a0-c161-491c-a763-a3052bdaa8e9",
   "metadata": {},
   "outputs": [],
   "source": [
    "#pegar os dados de cada cliente\n",
    "for linha in tabela.index: #tabela.index = linha\n",
    "    #preencher dados da nota fiscal\n",
    "    #Nome/Razão Social\n",
    "    navegador.find_element(By.NAME, 'nome').send_keys(tabela.loc[linha, \"Cliente\"])\n",
    "    #Endereço\n",
    "    navegador.find_element(By.NAME, 'endereco').send_keys(tabela.loc[linha, \"Endereço\"])\n",
    "    #Bairro\n",
    "    navegador.find_element(By.NAME, 'bairro').send_keys(tabela.loc[linha, \"Bairro\"])\n",
    "    #Municipio\n",
    "    navegador.find_element(By.NAME, 'municipio').send_keys(tabela.loc[linha, \"Municipio\"])\n",
    "    #CEP\n",
    "    navegador.find_element(By.NAME, 'cep').send_keys(str(tabela.loc[linha, \"CEP\"]))\n",
    "    #UF\n",
    "    navegador.find_element(By.NAME, 'uf').send_keys(tabela.loc[linha, \"UF\"])\n",
    "    #CNPJ/CPF\n",
    "    navegador.find_element(By.NAME, 'cnpj').send_keys(str(tabela.loc[linha, \"CPF/CNPJ\"]))\n",
    "    #Inscrição Estadual\n",
    "    navegador.find_element(By.NAME, 'inscricao').send_keys(str(tabela.loc[linha, \"Inscricao Estadual\"]))\n",
    "    \n",
    "    #Descrição\n",
    "    navegador.find_element(By.NAME, 'descricao').send_keys(tabela.loc[linha, \"Descrição\"])\n",
    "    #Quantidade\n",
    "    navegador.find_element(By.NAME, 'quantidade').send_keys(str(tabela.loc[linha, \"Quantidade\"]))\n",
    "    #Valor Unitario\n",
    "    navegador.find_element(By.NAME, 'valor_unitario').send_keys(str(tabela.loc[linha, \"Valor Unitario\"]))\n",
    "    #Valor total\n",
    "    navegador.find_element(By.NAME, 'total').send_keys(str(tabela.loc[linha, \"Valor Total\"]))\n",
    "    \n",
    "    #Clicar em emitir nota fiscal\n",
    "    navegador.find_element(By.CLASS_NAME, 'registerbtn').click()\n",
    "\n",
    "    #Recarregar a página para limpar o formulário\n",
    "    navegador.refresh()"
   ]
  },
  {
   "cell_type": "code",
   "execution_count": 5,
   "id": "bcc0d2d3-7688-4192-9306-e5c457301cac",
   "metadata": {},
   "outputs": [],
   "source": [
    "#fechar o navegador\n",
    "navegador.quit()"
   ]
  }
 ],
 "metadata": {
  "kernelspec": {
   "display_name": "Python 3 (ipykernel)",
   "language": "python",
   "name": "python3"
  },
  "language_info": {
   "codemirror_mode": {
    "name": "ipython",
    "version": 3
   },
   "file_extension": ".py",
   "mimetype": "text/x-python",
   "name": "python",
   "nbconvert_exporter": "python",
   "pygments_lexer": "ipython3",
   "version": "3.11.7"
  }
 },
 "nbformat": 4,
 "nbformat_minor": 5
}
