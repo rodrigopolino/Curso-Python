{
 "cells": [
  {
   "cell_type": "markdown",
   "id": "209c0fd2-607c-4cfe-8df5-fa6f46beb781",
   "metadata": {},
   "source": [
    "## Com o chromedriver.exe() já instalado na versão do Chrome"
   ]
  },
  {
   "cell_type": "code",
   "execution_count": 16,
   "id": "b849daec-00c1-43c6-b113-56fbb7235cad",
   "metadata": {},
   "outputs": [],
   "source": [
    "from selenium import webdriver\n",
    "\n",
    "driver = webdriver.Chrome()  #abre uma aba do chrome"
   ]
  },
  {
   "cell_type": "markdown",
   "id": "54a0e40d-e319-4b34-8a8d-af09c8b491a0",
   "metadata": {},
   "source": [
    "## Caminho para achar o chromedriver.exe caso tenha erro"
   ]
  },
  {
   "cell_type": "code",
   "execution_count": null,
   "id": "78894764-3c58-42d9-91a6-4a56ded4018d",
   "metadata": {},
   "outputs": [],
   "source": [
    "from selenium import webdriver\n",
    "from selenium.webdriver.chrome.service import Service\n",
    "\n",
    "servico = Service(r'C:\\Users\\Downloads\\chromedriver.exe')\n",
    "# Lembre-se que se você usa Linux ou Mac o arquivo do chromedriver não possui .exe no final\n",
    "driver = webdriver.Chrome(service=servico)"
   ]
  },
  {
   "cell_type": "markdown",
   "id": "09255f39-f252-4719-9374-a24df606636f",
   "metadata": {},
   "source": [
    "## Utilizar este código para sempre baixar o chromedriver.exe da última versão"
   ]
  },
  {
   "cell_type": "code",
   "execution_count": 27,
   "id": "fea1243b-f676-4170-abea-03cae09870b5",
   "metadata": {},
   "outputs": [],
   "source": [
    "from selenium import webdriver\n",
    "from selenium.webdriver.chrome.service import Service\n",
    "from webdriver_manager.chrome import ChromeDriverManager\n",
    "from selenium.webdriver.common.by import By\n",
    "from selenium.webdriver.common.keys import Keys\n",
    "from selenium.webdriver.support.select import Select\n",
    "\n",
    "servico = Service(ChromeDriverManager().install())\n",
    "navegador = webdriver.Chrome(service=servico)    #inicializa o navegador"
   ]
  },
  {
   "cell_type": "code",
   "execution_count": 11,
   "id": "f320be74-0e60-4d99-9f1d-3169c3b98994",
   "metadata": {},
   "outputs": [],
   "source": [
    "navegador.get(\"https://www.google.com\") #abrir um site\n",
    "#navegador.get(r\"C:\\\\Users\\Rodrigo\\Downloads\\teste.html\") #r não tenta tratar caracteres especiais\n",
    "navegador.get(r\"C:\\\\Users\\Rodrigo\\Downloads\\Pagina Hashtag.html\")"
   ]
  },
  {
   "cell_type": "code",
   "execution_count": 28,
   "id": "169a6bcf-e13c-48a2-914a-b5c7c749ab26",
   "metadata": {},
   "outputs": [],
   "source": [
    "import os\n",
    "\n",
    "caminho = os.getcwd() #pasta que está o código\n",
    "arquivo = caminho + r\"\\Pagina Hashtag.html\"\n",
    "\n",
    "navegador.get(arquivo)"
   ]
  },
  {
   "cell_type": "markdown",
   "id": "cb9be142-9532-4d4b-accf-e21769fe1283",
   "metadata": {},
   "source": [
    "navegador.find_element #tras resposta 1 item\n",
    "navegador.find_elements #lista"
   ]
  },
  {
   "cell_type": "markdown",
   "id": "66a98cdf-7af1-473e-a2dc-b67dc8ff596e",
   "metadata": {},
   "source": [
    "## ID"
   ]
  },
  {
   "cell_type": "code",
   "execution_count": 11,
   "id": "e207e5c5-b6b6-4966-a8ca-c55d9556d9c5",
   "metadata": {},
   "outputs": [],
   "source": [
    "from selenium.webdriver.common.by import By\n",
    "\n",
    "campo_nome = navegador.find_element(By.ID, 'fullname')\n",
    "campo_nome.send_keys(\"Rodrigo\")\n",
    "#campo_nome = navegador.find_element(By.ID, 'fullname').send_keys(\"Rodrigo\")\n",
    "\n",
    "campo_email = navegador.find_element(By.ID, 'email')\n",
    "campo_email.send_keys(\"rodrigo.polino@outlook.com\")\n",
    "\n",
    "botao_enviar = navegador.find_element(By.ID, '_form_176_submit').click()"
   ]
  },
  {
   "cell_type": "markdown",
   "id": "96e78377-7616-46a6-a90e-b0cd02f865f3",
   "metadata": {},
   "source": [
    "## Class Name - quando não tem ID"
   ]
  },
  {
   "cell_type": "code",
   "execution_count": 5,
   "id": "5ff21654-d923-42b2-a852-2622219cf5b1",
   "metadata": {},
   "outputs": [],
   "source": [
    "from selenium.webdriver.common.by import By\n",
    "\n",
    "navegador.find_element(By.CLASS_NAME, 'custom-logo').click() #ver se é uma classe única"
   ]
  },
  {
   "cell_type": "markdown",
   "id": "d9e0d125-e83e-4f6e-9b34-18df42bafe5c",
   "metadata": {},
   "source": [
    "## XPath - quando não tem ID e classe"
   ]
  },
  {
   "cell_type": "code",
   "execution_count": 7,
   "id": "e2eebd1c-2063-484c-8a81-41b81d1801bd",
   "metadata": {},
   "outputs": [],
   "source": [
    "navegador.find_element(By.XPATH, '/html/body/header/a/img').click()"
   ]
  },
  {
   "cell_type": "markdown",
   "id": "89df5dcf-43c7-4e12-9135-9e4c6dcec882",
   "metadata": {},
   "source": [
    "### Documentação Selenium:\n",
    "\n",
    "- https://selenium-python.readthedocs.io/locating-elements.html"
   ]
  },
  {
   "cell_type": "markdown",
   "id": "ffecb270-f73d-4396-a063-806d8ff14862",
   "metadata": {},
   "source": [
    "#### Selecionar pela tag\r\n",
    "\r\n",
    "- Vamos selecionar o título"
   ]
  },
  {
   "cell_type": "code",
   "execution_count": 13,
   "id": "75e6122b-b3fe-4e00-a7ce-ef5be6d30edb",
   "metadata": {},
   "outputs": [
    {
     "name": "stdout",
     "output_type": "stream",
     "text": [
      "Conheça todos os Cursos da Hashtag Treinamentos\n"
     ]
    }
   ],
   "source": [
    "from selenium.webdriver.common.by import By\n",
    "\n",
    "titulo = navegador.find_element(By.TAG_NAME, 'h1').text\n",
    "print(titulo)"
   ]
  },
  {
   "cell_type": "markdown",
   "id": "e297dda9-5e09-4bd3-a1be-d4a104efd4d4",
   "metadata": {},
   "source": [
    "#### Selecionar pelo Partial Link Text (ou LINK_TEXT)\r\n",
    "- Quero conseguir pegar o número de whatsapp de contato"
   ]
  },
  {
   "cell_type": "code",
   "execution_count": 15,
   "id": "7b856079-c6af-4bb1-9f89-9d146c100eb7",
   "metadata": {},
   "outputs": [
    {
     "name": "stdout",
     "output_type": "stream",
     "text": [
      "(21) 99865-8852 (WhatsApp)\n"
     ]
    }
   ],
   "source": [
    "numero_whatsapp = navegador.find_element(By.PARTIAL_LINK_TEXT, 'WhatsApp').text #ver se algum link tem a palavra\n",
    "print(numero_whatsapp)"
   ]
  },
  {
   "cell_type": "markdown",
   "id": "0749fcdd-b395-47dc-b013-d0dd54faf8f5",
   "metadata": {},
   "source": [
    "#### Selecionar pelo name\n",
    "- Preencher o formulário"
   ]
  },
  {
   "cell_type": "code",
   "execution_count": 23,
   "id": "2276cb0a-8d38-4c63-8c6d-d2523be7ffe6",
   "metadata": {},
   "outputs": [],
   "source": [
    "email = navegador.find_element(By.NAME, 'email').send_keys(\"rodrigo.polino@outlook.com\")"
   ]
  },
  {
   "cell_type": "markdown",
   "id": "540bc39a-c37c-4f84-b357-3b9ab3256b49",
   "metadata": {},
   "source": [
    "#### Selecionar pelo CSS Selector\n",
    "- Parecido com o XPATH, acaba não usando tanto, mas caso queira, tem uma referência aqui:\n",
    "https://saucelabs.com/resources/articles/selenium-tips-css-selectors"
   ]
  },
  {
   "cell_type": "markdown",
   "id": "2c8a02fa-8d26-408f-80d2-5f967afaec7d",
   "metadata": {},
   "source": [
    "#### Selecionar vários elementos de uma vez\r\n",
    "\r\n",
    "- Vamos selecionar pelo find_elements\r\n",
    "- Vamos clicar no item Blog do menu"
   ]
  },
  {
   "cell_type": "markdown",
   "id": "a44ac379-7e70-471c-943e-ff012b631ef9",
   "metadata": {},
   "source": [
    "itens com mais de um name"
   ]
  },
  {
   "cell_type": "code",
   "execution_count": 35,
   "id": "7034cd27-a9e7-40f4-b51c-1a89b0a4cc83",
   "metadata": {},
   "outputs": [],
   "source": [
    "lista_elementos = navegador.find_elements(By.CLASS_NAME, 'nav-link')\n",
    "#print(len(lista_elementos))\n",
    "#lista_elementos[5].click()\n",
    "\n",
    "for elemento in lista_elementos:\n",
    "    if \"blog\" in elemento.text.lower():\n",
    "        elemento.click()\n",
    "        break #importante dar break para finalizar o for\n"
   ]
  },
  {
   "cell_type": "markdown",
   "id": "a4239970-f089-4177-8537-30c2c4646cf8",
   "metadata": {},
   "source": [
    "#### Pegar informações de um elemento\n",
    "\n",
    "- texto\n",
    "- atributos"
   ]
  },
  {
   "cell_type": "markdown",
   "id": "eeebcdea-2428-49ad-a8e4-77497726a38c",
   "metadata": {},
   "source": [
    "##### Ex1: Link do Whatsapp"
   ]
  },
  {
   "cell_type": "code",
   "execution_count": 48,
   "id": "708d7fac-1b49-40d5-ba56-6a3f9dbaa1cc",
   "metadata": {},
   "outputs": [
    {
     "name": "stdout",
     "output_type": "stream",
     "text": [
      "https://api.whatsapp.com/send?phone=5521998658852&text=Ol%C3%A1%2C%20gostaria%20de%20tirar%20uma%20d%C3%BAvida%20%20sobre%20o%20curso%20online\n"
     ]
    }
   ],
   "source": [
    "texto = navegador.find_element(By.XPATH, '/html/body/footer/div/div[1]/div[2]/div/a[2]').get_attribute('href')\n",
    "print(texto)"
   ]
  },
  {
   "cell_type": "markdown",
   "id": "99663042-384c-4c15-a652-e2c051b8b54c",
   "metadata": {},
   "source": [
    "##### Ex2: Imagens dos cursos\n",
    "\n",
    "subir uma tag para achar o link dentro da tag href"
   ]
  },
  {
   "cell_type": "code",
   "execution_count": 5,
   "id": "1ee94f68-c6af-4f88-bcb2-a3095ddab9ce",
   "metadata": {},
   "outputs": [
    {
     "name": "stdout",
     "output_type": "stream",
     "text": [
      "https://www.hashtagtreinamentos.com/curso-de-excel-online\n"
     ]
    }
   ],
   "source": [
    "link = navegador.find_element(By.XPATH, '/html/body/section[2]/div/div[4]/figure/a').get_attribute('href')\n",
    "print(link)"
   ]
  },
  {
   "cell_type": "markdown",
   "id": "8cf409bf-0bd7-40f2-9a98-7d430f751bb6",
   "metadata": {},
   "source": [
    "#### Pegar todos os links das imagens"
   ]
  },
  {
   "cell_type": "markdown",
   "id": "8ed4d49d-3b6b-4865-bfb6-75aed7db7ff2",
   "metadata": {},
   "source": [
    "tag figure não é tão comum em html\n",
    "-dentro da figure tem um <a></a>\n",
    "-powerpoint não tem link associado"
   ]
  },
  {
   "cell_type": "code",
   "execution_count": 15,
   "id": "2b746ec6-ebed-457e-91de-b56cebf13c21",
   "metadata": {},
   "outputs": [
    {
     "name": "stdout",
     "output_type": "stream",
     "text": [
      "https://www.hashtagtreinamentos.com/curso-de-excel-online\n",
      "https://www.hashtagtreinamentos.com/curso-power-bi\n",
      "https://www.hashtagtreinamentos.com/curso-python\n",
      "https://www.hashtagtreinamentos.com/curso-sql\n",
      "https://www.hashtagtreinamentos.com/curso-vba-excel\n"
     ]
    }
   ],
   "source": [
    "lista_elementos = navegador.find_elements(By.TAG_NAME, 'figure')\n",
    "#print(len(lista_elementos))\n",
    "\n",
    "for elemento in lista_elementos:\n",
    "    try:\n",
    "        link = elemento.find_element(By.TAG_NAME, 'a').get_attribute('href')\n",
    "        print(link)\n",
    "    except:\n",
    "        continue"
   ]
  },
  {
   "cell_type": "code",
   "execution_count": 25,
   "id": "29f38e91-c62a-4345-9d3f-90f39d5345a1",
   "metadata": {},
   "outputs": [],
   "source": [
    "import os\n",
    "\n",
    "caminho = os.getcwd() #pasta que está o código\n",
    "arquivo = caminho + r\"\\formulario.html\"\n",
    "\n",
    "navegador.get(arquivo)"
   ]
  },
  {
   "cell_type": "markdown",
   "id": "4be0461e-18b2-4e3c-a6f3-49c9ed0842b0",
   "metadata": {},
   "source": [
    "#### Botao Padrao (clicar em botao)"
   ]
  },
  {
   "cell_type": "code",
   "execution_count": 6,
   "id": "93c4cb37-5dbc-4ff0-a109-ed9c4adfc7f7",
   "metadata": {},
   "outputs": [],
   "source": [
    "navegador.find_element(By.XPATH, '/html/body/form/input[1]').click()\n",
    "\n",
    "#Pop-ups\n",
    "alerta = navegador.switch_to.alert  #dá como resposta o pop-up\n",
    "alerta.accept() #dismiss()"
   ]
  },
  {
   "cell_type": "markdown",
   "id": "b8ca8c69-d75a-40a7-ac45-e2c03825c274",
   "metadata": {},
   "source": [
    "#### Dica, esteja atento ao atributo \"value\" dos inputs, ele pode te ajudar\n",
    "\n",
    "- .text\n",
    "- .get_attribute(\"value\")\n",
    "- .is_selected"
   ]
  },
  {
   "cell_type": "markdown",
   "id": "259c5c1d-ea4e-4fd0-8dce-952d22252e48",
   "metadata": {},
   "source": [
    "#### Botao de Selecao estilo Checkbox (clicar no botao)"
   ]
  },
  {
   "cell_type": "code",
   "execution_count": 11,
   "id": "5dcf761e-366e-4526-85a3-6d2f788fc086",
   "metadata": {},
   "outputs": [],
   "source": [
    "#clicar no botão\n",
    "navegador.find_element(By.XPATH, '/html/body/form/input[3]').click()"
   ]
  },
  {
   "cell_type": "code",
   "execution_count": 26,
   "id": "a75c0a4c-b818-4b22-a93d-d2b34fe32b36",
   "metadata": {},
   "outputs": [
    {
     "data": {
      "text/plain": [
       "False"
      ]
     },
     "execution_count": 26,
     "metadata": {},
     "output_type": "execute_result"
    }
   ],
   "source": [
    "#verificar o valor do botão\n",
    "navegador.find_element(By.XPATH, '/html/body/form/input[3]').is_selected()"
   ]
  },
  {
   "cell_type": "markdown",
   "id": "486f2172-09fd-49c0-b51e-ab4c9ea76ded",
   "metadata": {},
   "source": [
    "#### Botao de Selecao de Cores (enviar valor)"
   ]
  },
  {
   "cell_type": "code",
   "execution_count": 3,
   "id": "c9888cec-8351-4ac5-98c2-bfcc1d6ccc00",
   "metadata": {},
   "outputs": [
    {
     "name": "stdout",
     "output_type": "stream",
     "text": [
      "#000000\n"
     ]
    }
   ],
   "source": [
    "#verificar qual a cor selecionada\n",
    "cor = navegador.find_element(By.XPATH, '/html/body/form/input[4]').get_attribute(\"value\")\n",
    "print(cor)"
   ]
  },
  {
   "cell_type": "code",
   "execution_count": 4,
   "id": "bd0b4ae4-5aca-462a-a6c3-09fd92d4aa74",
   "metadata": {},
   "outputs": [],
   "source": [
    "#preencher a cor\n",
    "navegador.find_element(By.XPATH, '/html/body/form/input[4]').send_keys('#3EB167')"
   ]
  },
  {
   "cell_type": "code",
   "execution_count": 5,
   "id": "817eccbf-799e-494e-bc8a-69b3f67bfd87",
   "metadata": {},
   "outputs": [],
   "source": [
    "navegador.find_element(By.XPATH, '/html/body/form/input[5]').send_keys('#ffffff')"
   ]
  },
  {
   "cell_type": "markdown",
   "id": "6f07e394-c76a-4c8a-8085-7483e6f198fe",
   "metadata": {},
   "source": [
    "#### Botao de Datas (enviar valor)"
   ]
  },
  {
   "cell_type": "code",
   "execution_count": 6,
   "id": "38103fcb-db59-470e-8291-488fb1248d95",
   "metadata": {},
   "outputs": [],
   "source": [
    "#preencher\n",
    "navegador.find_element(By.XPATH, '/html/body/form/input[6]').send_keys('12/09/2005')"
   ]
  },
  {
   "cell_type": "code",
   "execution_count": 7,
   "id": "08c71082-7bb9-4291-a52e-f2278ee7e810",
   "metadata": {},
   "outputs": [
    {
     "name": "stdout",
     "output_type": "stream",
     "text": [
      "2005-09-12\n"
     ]
    }
   ],
   "source": [
    "#pegar o valor\n",
    "valor = navegador.find_element(By.XPATH, '/html/body/form/input[6]').get_attribute('value')\n",
    "print(valor) #resposta em formato americano"
   ]
  },
  {
   "cell_type": "markdown",
   "id": "4adf31d5-e558-493a-8bf0-046d02965f12",
   "metadata": {},
   "source": [
    "#### Botao de Datas com Horas (enviar valor)"
   ]
  },
  {
   "cell_type": "code",
   "execution_count": 14,
   "id": "c33e8f49-6d8f-4afa-9ace-18e7bebaea13",
   "metadata": {},
   "outputs": [],
   "source": [
    "from selenium.webdriver.common.keys import Keys"
   ]
  },
  {
   "cell_type": "code",
   "execution_count": 19,
   "id": "c77133c7-f56c-4a88-a869-702f0cb61f78",
   "metadata": {},
   "outputs": [],
   "source": [
    "#preencher \n",
    "# Clicar em Tab para por o horário\n",
    "navegador.find_element(By.XPATH, '/html/body/form/input[7]').send_keys('15/02/1994', Keys.TAB, '22:00')"
   ]
  },
  {
   "cell_type": "code",
   "execution_count": 21,
   "id": "4c75b6be-a2ac-49b4-beaa-9eb7c590375d",
   "metadata": {},
   "outputs": [
    {
     "name": "stdout",
     "output_type": "stream",
     "text": [
      "1994-02-15T22:05\n"
     ]
    }
   ],
   "source": [
    "#pegar o valor\n",
    "valor = navegador.find_element(By.XPATH, '/html/body/form/input[7]').get_attribute('value')\n",
    "print(valor)"
   ]
  },
  {
   "cell_type": "markdown",
   "id": "765478aa-e82b-4c05-acab-2051a8870ed9",
   "metadata": {},
   "source": [
    "#### Botao para selecionar o arquivo (enviar valor com caminho completo)"
   ]
  },
  {
   "cell_type": "code",
   "execution_count": 26,
   "id": "63054c5f-f550-4798-bd19-017a2abc7dd5",
   "metadata": {},
   "outputs": [],
   "source": [
    "navegador.find_element(By.XPATH, '/html/body/form/input[8]').send_keys(r'C:\\Users\\Rodrigo\\Downloads\\Currículo Rodrigo Polino.pdf')"
   ]
  },
  {
   "cell_type": "code",
   "execution_count": 27,
   "id": "9edc7d35-5882-41b3-adba-ced2fea07ecf",
   "metadata": {},
   "outputs": [
    {
     "name": "stdout",
     "output_type": "stream",
     "text": [
      "C:\\fakepath\\Currículo Rodrigo Polino.pdf\n"
     ]
    }
   ],
   "source": [
    "valor = navegador.find_element(By.XPATH, '/html/body/form/input[8]').get_attribute('value')\n",
    "print(valor)"
   ]
  },
  {
   "cell_type": "markdown",
   "id": "fba72d34-7fac-4701-bda1-34beb1a4772d",
   "metadata": {},
   "source": [
    "#### Botao para selecionar mes e ano (enviar valor)"
   ]
  },
  {
   "cell_type": "code",
   "execution_count": 33,
   "id": "0864434c-98a9-42fa-9a75-91208e9bd85f",
   "metadata": {},
   "outputs": [],
   "source": [
    "navegador.find_element(By.XPATH, '/html/body/form/input[9]').send_keys('setembro', Keys.TAB, '2005')"
   ]
  },
  {
   "cell_type": "code",
   "execution_count": 34,
   "id": "e6527d57-0418-44a1-b230-43998b7bb015",
   "metadata": {},
   "outputs": [
    {
     "name": "stdout",
     "output_type": "stream",
     "text": [
      "2005-09\n"
     ]
    }
   ],
   "source": [
    "valor = navegador.find_element(By.XPATH, '/html/body/form/input[9]').get_attribute('value')\n",
    "print(valor)"
   ]
  },
  {
   "cell_type": "markdown",
   "id": "bd736929-083b-4035-b233-1330d29e7b2f",
   "metadata": {},
   "source": [
    "#### Campos Numericos"
   ]
  },
  {
   "cell_type": "code",
   "execution_count": 38,
   "id": "cfe852e1-f496-4637-9c07-6f24c5e44e84",
   "metadata": {},
   "outputs": [],
   "source": [
    "navegador.find_element(By.XPATH, '/html/body/form/input[10]').clear()\n",
    "navegador.find_element(By.XPATH, '/html/body/form/input[10]').send_keys('12345678')"
   ]
  },
  {
   "cell_type": "markdown",
   "id": "e3def8c0-8fcb-433d-bc22-4b1fd9666e02",
   "metadata": {},
   "source": [
    "#### Campos de Senha"
   ]
  },
  {
   "cell_type": "code",
   "execution_count": 44,
   "id": "1ac84598-8fba-42f9-b7b8-e36985e72791",
   "metadata": {},
   "outputs": [
    {
     "name": "stdout",
     "output_type": "stream",
     "text": [
      "1310\n"
     ]
    }
   ],
   "source": [
    "navegador.find_element(By.XPATH, '/html/body/form/input[11]').clear()\n",
    "navegador.find_element(By.XPATH, '/html/body/form/input[11]').send_keys('1310')\n",
    "\n",
    "senha = navegador.find_element(By.XPATH, '/html/body/form/input[11]').get_attribute('value')\n",
    "print(senha) #Retorna a senha"
   ]
  },
  {
   "cell_type": "markdown",
   "id": "b1d93719-2e36-4f6d-a739-aff583991863",
   "metadata": {},
   "source": [
    "#### RadioButtons (botoes que so consegue marcar 1)"
   ]
  },
  {
   "cell_type": "code",
   "execution_count": 49,
   "id": "d31e52b1-f6ae-4275-95c7-e385ac9db444",
   "metadata": {},
   "outputs": [
    {
     "data": {
      "text/plain": [
       "True"
      ]
     },
     "execution_count": 49,
     "metadata": {},
     "output_type": "execute_result"
    }
   ],
   "source": [
    "navegador.find_element(By.XPATH, '/html/body/form/input[14]').click()\n",
    "\n",
    "navegador.find_element(By.XPATH, '/html/body/form/input[14]').is_selected()\n"
   ]
  },
  {
   "cell_type": "markdown",
   "id": "37df819b-a274-42b9-ac53-fd1f93766532",
   "metadata": {},
   "source": [
    "#### Slider (enviar valor)"
   ]
  },
  {
   "cell_type": "code",
   "execution_count": 73,
   "id": "6eef2551-0cd6-48e6-aae9-c1f5809d1387",
   "metadata": {},
   "outputs": [
    {
     "name": "stdout",
     "output_type": "stream",
     "text": [
      "70\n"
     ]
    }
   ],
   "source": [
    "#pegar o valor\n",
    "valor = navegador.find_element(By.XPATH, '/html/body/form/input[15]').get_attribute(\"value\")\n",
    "print(valor)"
   ]
  },
  {
   "cell_type": "code",
   "execution_count": 72,
   "id": "90e36d8f-d4c1-42ad-bf80-4054d0c0110d",
   "metadata": {},
   "outputs": [],
   "source": [
    "#preencher o valor\n",
    "elemento = navegador.find_element(By.XPATH, '/html/body/form/input[15]')\n",
    "elemento.clear() #padrão é 50\n",
    "\n",
    "for i in range (70 - 50):\n",
    "    elemento.send_keys(Keys.ARROW_RIGHT)\n",
    "\n",
    "# for i in range (50 - 30):\n",
    "#    elemento.send_keys(Keys.ARROW_LEFT)\n"
   ]
  },
  {
   "cell_type": "markdown",
   "id": "1551a8db-2e43-497b-80d4-61cdf1ce22e3",
   "metadata": {},
   "source": [
    "#### Caixa de Texto"
   ]
  },
  {
   "cell_type": "code",
   "execution_count": 19,
   "id": "7bdb75ce-8bac-4a20-b3db-e9fcb15b4c0e",
   "metadata": {},
   "outputs": [],
   "source": [
    "#preencher\n",
    "navegador.find_element(By.XPATH, '/html/body/form/input[16]').send_keys(\"Palmeiras\")"
   ]
  },
  {
   "cell_type": "code",
   "execution_count": 20,
   "id": "d7673d08-ddc4-4ddc-9351-72067a5d8715",
   "metadata": {},
   "outputs": [
    {
     "name": "stdout",
     "output_type": "stream",
     "text": [
      "Palmeiras\n"
     ]
    }
   ],
   "source": [
    "#buscando o valor da caixa de texto\n",
    "valor = navegador.find_element(By.XPATH, '/html/body/form/input[16]').get_attribute(\"value\")\n",
    "print(valor)"
   ]
  },
  {
   "cell_type": "markdown",
   "id": "21ce3858-0a24-46e0-9693-c67a64007b8c",
   "metadata": {},
   "source": [
    "#### Caixa de Horas"
   ]
  },
  {
   "cell_type": "code",
   "execution_count": 50,
   "id": "bfe17580-630e-4533-9f38-bf7c55c54d6c",
   "metadata": {},
   "outputs": [],
   "source": [
    "navegador.find_element(By.XPATH, '/html/body/form/input[17]').send_keys('17:16')"
   ]
  },
  {
   "cell_type": "markdown",
   "id": "096a0a80-74b0-4e25-9537-a121c22d1b7b",
   "metadata": {},
   "source": [
    "#### Caixa de Data Personalizada (Semanal)"
   ]
  },
  {
   "cell_type": "code",
   "execution_count": 58,
   "id": "652031bf-2ee5-42cb-bd62-f41f9c82d68a",
   "metadata": {},
   "outputs": [],
   "source": [
    "navegador.find_element(By.XPATH, '/html/body/form/input[18]').send_keys('12', '2005')"
   ]
  },
  {
   "cell_type": "markdown",
   "id": "383abd37-3f94-4694-be26-485a47af605b",
   "metadata": {},
   "source": [
    "#### Blocos de texto (enviar valor)"
   ]
  },
  {
   "cell_type": "code",
   "execution_count": 61,
   "id": "aa0b8bde-9d25-4d62-8398-7727761097c5",
   "metadata": {},
   "outputs": [],
   "source": [
    "navegador.find_element(By.XPATH, '//*[@id=\"story\"]').clear()\n",
    "navegador.find_element(By.XPATH, '//*[@id=\"story\"]').send_keys('Olá', Keys.ENTER, 'Mundo!')"
   ]
  },
  {
   "cell_type": "markdown",
   "id": "e1868f4c-d57f-4604-b1ea-e097ab0ecee2",
   "metadata": {},
   "source": [
    "#### Selecionando itens de uma lista"
   ]
  },
  {
   "cell_type": "code",
   "execution_count": 79,
   "id": "f607ddec-6542-42f2-8789-a36b1dfe412c",
   "metadata": {},
   "outputs": [],
   "source": [
    "#OPÇÃO 1\n",
    "#Enviar letra C\n",
    "navegador.find_element(By.XPATH, '/html/body/form/select[1]').send_keys('C')"
   ]
  },
  {
   "cell_type": "code",
   "execution_count": 76,
   "id": "57748748-d5f2-40c4-82cb-ede8d259f03b",
   "metadata": {},
   "outputs": [
    {
     "name": "stdout",
     "output_type": "stream",
     "text": [
      "c\n"
     ]
    }
   ],
   "source": [
    "#pegar o valor\n",
    "valor = navegador.find_element(By.XPATH, '/html/body/form/select[1]').get_attribute('value')\n",
    "print(valor)"
   ]
  },
  {
   "cell_type": "code",
   "execution_count": 81,
   "id": "8243bfe2-6021-4ff4-ad43-dcaba5caf69a",
   "metadata": {},
   "outputs": [],
   "source": [
    "#OPÇÃO 2\n",
    "import time\n",
    "#clicando para selecionar o valor\n",
    "navegador.find_element(By.XPATH, '/html/body/form/select[1]').click()\n",
    "#seleção A\n",
    "time.sleep(0.5)\n",
    "navegador.find_element(By.XPATH, '/html/body/form/select[1]/option[1]').click()"
   ]
  },
  {
   "cell_type": "markdown",
   "id": "07f4dc9a-6135-439b-9119-4e2bad6097aa",
   "metadata": {},
   "source": [
    "#### SELECT"
   ]
  },
  {
   "cell_type": "code",
   "execution_count": 4,
   "id": "f6a8d61a-2dc2-413c-8fa5-7f615f5c5b55",
   "metadata": {},
   "outputs": [],
   "source": [
    "from selenium.webdriver.support.select import Select\n",
    "\n",
    "elemento = navegador.find_element(By.TAG_NAME, 'select')\n",
    "elemento_select = Select(elemento)"
   ]
  },
  {
   "cell_type": "code",
   "execution_count": 5,
   "id": "73e3791d-4c53-410c-aef2-5a375575d133",
   "metadata": {},
   "outputs": [],
   "source": [
    "#itemA\n",
    "elemento_select.select_by_index(0)"
   ]
  },
  {
   "cell_type": "code",
   "execution_count": 6,
   "id": "86c1313d-3b70-4bfd-bc44-f1337130525b",
   "metadata": {},
   "outputs": [],
   "source": [
    "#itemC\n",
    "elemento_select.select_by_index(2)"
   ]
  },
  {
   "cell_type": "code",
   "execution_count": 8,
   "id": "f93112f8-583e-49d6-97aa-55e9ba1dd1f9",
   "metadata": {},
   "outputs": [],
   "source": [
    "#itemB\n",
    "elemento_select.select_by_value('b')"
   ]
  },
  {
   "cell_type": "code",
   "execution_count": 10,
   "id": "a882716f-6f9f-4f56-a97e-99597fea9201",
   "metadata": {},
   "outputs": [],
   "source": [
    "#itemC\n",
    "elemento_select.select_by_visible_text('C')"
   ]
  },
  {
   "cell_type": "code",
   "execution_count": 11,
   "id": "cd9587d6-cf16-4c94-92e1-a0f0a060f90d",
   "metadata": {},
   "outputs": [
    {
     "ename": "AttributeError",
     "evalue": "'Select' object has no attribute 'desselect_all'",
     "output_type": "error",
     "traceback": [
      "\u001b[1;31m---------------------------------------------------------------------------\u001b[0m",
      "\u001b[1;31mAttributeError\u001b[0m                            Traceback (most recent call last)",
      "Cell \u001b[1;32mIn[11], line 1\u001b[0m\n\u001b[1;32m----> 1\u001b[0m \u001b[43melemento_select\u001b[49m\u001b[38;5;241;43m.\u001b[39;49m\u001b[43mdesselect_all\u001b[49m\n",
      "\u001b[1;31mAttributeError\u001b[0m: 'Select' object has no attribute 'desselect_all'"
     ]
    }
   ],
   "source": [
    "#Sempre tem um elemento selecionado\n",
    "elemento_select.desselect_all"
   ]
  },
  {
   "cell_type": "code",
   "execution_count": 13,
   "id": "c58a4758-e307-49f1-9d7a-dd9b0c0bae36",
   "metadata": {},
   "outputs": [
    {
     "name": "stdout",
     "output_type": "stream",
     "text": [
      "None\n"
     ]
    }
   ],
   "source": [
    "#Pode selecionar mais de um elemento\n",
    "print(elemento_select.is_multiple)"
   ]
  },
  {
   "cell_type": "code",
   "execution_count": 18,
   "id": "8b4fd002-88ea-4d66-a48a-1a116d174a0f",
   "metadata": {},
   "outputs": [
    {
     "name": "stdout",
     "output_type": "stream",
     "text": [
      "c\n"
     ]
    }
   ],
   "source": [
    "#Ler o item selecionado\n",
    "item = elemento_select.first_selected_option\n",
    "#navegador.find_element(By.XPATH, '/html/body/form/select[1]')\n",
    "print(item.get_attribute('value'))"
   ]
  },
  {
   "cell_type": "code",
   "execution_count": 22,
   "id": "d65a0b7b-c911-47a3-a941-9a9797f4f3e4",
   "metadata": {},
   "outputs": [
    {
     "name": "stdout",
     "output_type": "stream",
     "text": [
      "c\n",
      "C\n"
     ]
    }
   ],
   "source": [
    "#Ler lista de itens selecionado\n",
    "lista_itens = elemento_select.all_selected_options\n",
    "#navegador.find_elements(By.XPATH, '/html/body/form/select[1]')\n",
    "\n",
    "#find_element = elemento\n",
    "#find_elements = [elemento1, elemento2, elemento3]\n",
    "print(lista_itens[0].get_attribute('value'))\n",
    "print(lista_itens[0].text)"
   ]
  },
  {
   "cell_type": "markdown",
   "id": "ef40362e-eb69-486f-b6e8-4d6ff12b2013",
   "metadata": {},
   "source": [
    "## Dropdown diferente em um site real"
   ]
  },
  {
   "cell_type": "code",
   "execution_count": 31,
   "id": "afa88983-62ef-40dd-a5ae-a95c73c69ee0",
   "metadata": {},
   "outputs": [],
   "source": [
    "link = navegador.find_element(By.XPATH, '//*[@id=\"menu-item-17042\"]/a').get_attribute('href')\n",
    "navegador.get(link)"
   ]
  },
  {
   "cell_type": "markdown",
   "id": "18e07931-0a1f-4cc7-96e1-11129ec08b0b",
   "metadata": {},
   "source": [
    "## ActionChains\n",
    "\n",
    "#### (Passar o mouse em cima)\n",
    "\n",
    "Link com a referência: https://www.selenium.dev/pt-br/documentation/webdriver/actions_api/mouse/"
   ]
  },
  {
   "cell_type": "code",
   "execution_count": 32,
   "id": "30998b8a-2b3a-41bd-9ddd-3f5814e06030",
   "metadata": {},
   "outputs": [],
   "source": [
    "#Simula ações do mouse\n",
    "from selenium.webdriver import ActionChains"
   ]
  },
  {
   "cell_type": "code",
   "execution_count": 36,
   "id": "cadc057f-ef4b-4d68-833a-2fe8ddc1a27d",
   "metadata": {},
   "outputs": [],
   "source": [
    "menu = navegador.find_element(By.XPATH, '//*[@id=\"menu-item-16313\"]/a')\n",
    "item = navegador.find_element(By.XPATH, '//*[@id=\"menu-item-17042\"]/a')\n",
    "\n",
    "#Colocar o mouse em cima do menu\n",
    "ActionChains(navegador).move_to_element(menu).perform()\n",
    "#clicar no item\n",
    "item.click()"
   ]
  },
  {
   "cell_type": "markdown",
   "id": "aaf2de1e-e87d-46c9-b293-742c63f42271",
   "metadata": {},
   "source": [
    "## XPath, Class Name e outras referências\n",
    "\n",
    "- Podem passar por atualizações no site/modificações\n",
    "- Sites diferentes têm dinâmicas diferentes"
   ]
  }
 ],
 "metadata": {
  "kernelspec": {
   "display_name": "Python 3 (ipykernel)",
   "language": "python",
   "name": "python3"
  },
  "language_info": {
   "codemirror_mode": {
    "name": "ipython",
    "version": 3
   },
   "file_extension": ".py",
   "mimetype": "text/x-python",
   "name": "python",
   "nbconvert_exporter": "python",
   "pygments_lexer": "ipython3",
   "version": "3.11.7"
  }
 },
 "nbformat": 4,
 "nbformat_minor": 5
}
