{
 "cells": [
  {
   "cell_type": "code",
   "execution_count": 14,
   "id": "7fae9180-8ba1-4aeb-a573-fcbafeab7307",
   "metadata": {},
   "outputs": [],
   "source": [
    "from selenium import webdriver\n",
    "from selenium.webdriver.chrome.service import Service\n",
    "from webdriver_manager.chrome import ChromeDriverManager\n",
    "from selenium.webdriver.common.by import By\n",
    "from selenium.webdriver.common.keys import Keys\n",
    "from selenium.webdriver.support.select import Select\n",
    "\n",
    "servico = Service(ChromeDriverManager().install())\n",
    "navegador = webdriver.Chrome(service=servico)    #inicializa o navegador\n",
    "\n",
    "import os\n",
    "\n",
    "caminho = os.getcwd() #pasta que está o código\n",
    "arquivo = caminho + r\"\\Pagina Hashtag.html\"\n",
    "\n",
    "navegador.get(arquivo)"
   ]
  },
  {
   "cell_type": "markdown",
   "id": "c843133d-bc5c-4167-a198-0fe90148769f",
   "metadata": {},
   "source": [
    "## Tirando Print da tela inteira"
   ]
  },
  {
   "cell_type": "code",
   "execution_count": 2,
   "id": "4d7526b6-8254-4b0d-a31d-93b2ac8bf72c",
   "metadata": {},
   "outputs": [
    {
     "data": {
      "text/plain": [
       "True"
      ]
     },
     "execution_count": 2,
     "metadata": {},
     "output_type": "execute_result"
    }
   ],
   "source": [
    "navegador.save_screenshot(\"print.png\")"
   ]
  },
  {
   "cell_type": "markdown",
   "id": "bb6e0a9f-f082-40c8-a99e-a7bcc8788565",
   "metadata": {},
   "source": [
    "## Tirando print de parte da tela"
   ]
  },
  {
   "cell_type": "code",
   "execution_count": 13,
   "id": "41a88c42-85a6-4b20-9579-fd31b75c183b",
   "metadata": {},
   "outputs": [],
   "source": [
    "from PIL import Image\n",
    "imagem = Image.open('print.png') \n",
    "\n",
    "elemento = navegador.find_element(By.ID, 'header')\n",
    "posicao = elemento.location\n",
    "tamanho = elemento.size\n",
    "\n",
    "x_inicial = posicao[\"x\"]\n",
    "y_inicial = posicao[\"y\"]\n",
    "x_final = x_inicial + tamanho[\"width\"] * (4/6) \n",
    "y_final = y_inicial + tamanho[\"height\"]\n",
    "\n",
    "imagem = imagem.crop((x_inicial, y_inicial, x_final, y_final)) #CROP - tem que receber uma tupla de 4 itens \n",
    "imagem.save('print_pedaco.png')"
   ]
  },
  {
   "cell_type": "markdown",
   "id": "be0f682c-848d-47d1-a02b-3a17e6beefb0",
   "metadata": {},
   "source": [
    "## Editando a tela do navegador"
   ]
  },
  {
   "cell_type": "markdown",
   "id": "dffd87ef-3391-4589-b47a-85e86a2263b5",
   "metadata": {},
   "source": [
    "#### Maximizar"
   ]
  },
  {
   "cell_type": "code",
   "execution_count": 18,
   "id": "f8af4d8c-e5b5-43f2-a34b-0f07188bcca5",
   "metadata": {},
   "outputs": [],
   "source": [
    "navegador.maximize_window()"
   ]
  },
  {
   "cell_type": "markdown",
   "id": "1182ad06-0fba-4857-af8a-d30a7a0cf05a",
   "metadata": {},
   "source": [
    "#### Minimizar"
   ]
  },
  {
   "cell_type": "code",
   "execution_count": 19,
   "id": "1a23210a-5d9e-4d55-8b6f-7439de0659ae",
   "metadata": {},
   "outputs": [],
   "source": [
    "navegador.minimize_window()"
   ]
  },
  {
   "cell_type": "markdown",
   "id": "c1a656a7-faba-4eb5-8f1a-4cc980da0c16",
   "metadata": {},
   "source": [
    "#### Headless \n",
    "\n",
    "\n",
    "- Não abre o chrome visualmente - fica escondido\n",
    "- Atenção que nem sempre funciona igual"
   ]
  },
  {
   "cell_type": "code",
   "execution_count": 21,
   "id": "4eb4db45-b476-4534-b2f6-4566400e20f0",
   "metadata": {},
   "outputs": [
    {
     "name": "stdout",
     "output_type": "stream",
     "text": [
      "Portal | Hashtag Treinamentos\n"
     ]
    }
   ],
   "source": [
    "options = webdriver.ChromeOptions()\n",
    "options.add_argument('--headless') #argumento aplicado no prompt ('--start-maximized'), ('--disable=extensions')\n",
    "novo_nav = webdriver.Chrome(service=servico, options=options)    #inicializa o navegador\n",
    "novo_nav.get(\"https://portalhashtag.com/\")\n",
    "print(novo_nav.title)"
   ]
  }
 ],
 "metadata": {
  "kernelspec": {
   "display_name": "Python 3 (ipykernel)",
   "language": "python",
   "name": "python3"
  },
  "language_info": {
   "codemirror_mode": {
    "name": "ipython",
    "version": 3
   },
   "file_extension": ".py",
   "mimetype": "text/x-python",
   "name": "python",
   "nbconvert_exporter": "python",
   "pygments_lexer": "ipython3",
   "version": "3.11.7"
  }
 },
 "nbformat": 4,
 "nbformat_minor": 5
}
