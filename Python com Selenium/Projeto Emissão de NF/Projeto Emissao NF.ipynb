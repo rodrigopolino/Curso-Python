{
 "cells": [
  {
   "cell_type": "code",
   "execution_count": 1,
   "id": "bee8aa01-371a-418f-bcf3-a264935fc26a",
   "metadata": {},
   "outputs": [],
   "source": [
    "from selenium import webdriver\n",
    "from selenium.webdriver.chrome.service import Service\n",
    "from webdriver_manager.chrome import ChromeDriverManager\n",
    "from selenium.webdriver.common.by import By\n",
    "from selenium.webdriver.common.keys import Keys\n",
    "from selenium.webdriver.support.select import Select\n",
    "\n",
    "#Não bloquear downloads\n",
    "options = webdriver.ChromeOptions()\n",
    "options.add_experimental_option(\"prefs\", {\n",
    "  \"download.default_directory\": r\"C:\\Users\\Rodrigo\\downloads\",\n",
    "  \"download.prompt_for_download\": False,\n",
    "  \"download.directory_upgrade\": True,\n",
    "  \"safebrowsing.enabled\": True\n",
    "})\n",
    "\n",
    "servico = Service(ChromeDriverManager().install())\n",
    "navegador = webdriver.Chrome(service=servico, options=options)    #inicializa o navegador"
   ]
  },
  {
   "cell_type": "code",
   "execution_count": 2,
   "id": "d15769ef-f522-4eb1-9c7b-0cd4656817f9",
   "metadata": {},
   "outputs": [],
   "source": [
    "# entrar na pagina de Login (login.html)\n",
    "import os\n",
    "caminho = os.getcwd()\n",
    "arquivo = caminho + r\"\\login.html\"\n",
    "navegador.get(arquivo)\n",
    "\n",
    "#preencher Login e Senha\n",
    "navegador.find_element(By.XPATH, '/html/body/div/form/input[1]').send_keys('rodrigo.polino@outlook.com')\n",
    "navegador.find_element(By.XPATH, '/html/body/div/form/input[2]').send_keys('1234')\n",
    "\n",
    "#Clicar botão Login\n",
    "navegador.find_element(By.TAG_NAME, 'button').click()"
   ]
  },
  {
   "cell_type": "code",
   "execution_count": 3,
   "id": "534c21a0-c161-491c-a763-a3052bdaa8e9",
   "metadata": {},
   "outputs": [],
   "source": [
    "#preencher dados da nota fiscal\n",
    "\n",
    "#Nome/Razão Social\n",
    "navegador.find_element(By.NAME, 'nome').send_keys('Polino Odontologia')\n",
    "#Endereço\n",
    "navegador.find_element(By.NAME, 'endereco').send_keys('Rua Cantagolo, 103')\n",
    "#Bairro\n",
    "navegador.find_element(By.NAME, 'bairro').send_keys('Tatuapé')\n",
    "#Municipio\n",
    "navegador.find_element(By.NAME, 'municipio').send_keys('São Paulo')\n",
    "#CEP\n",
    "navegador.find_element(By.NAME, 'cep').send_keys('03382-060')\n",
    "#UF\n",
    "navegador.find_element(By.NAME, 'uf').send_keys('SP')\n",
    "#CNPJ/CPF\n",
    "navegador.find_element(By.NAME, 'cnpj').send_keys('18173627800')\n",
    "#Inscrição Estadual\n",
    "navegador.find_element(By.NAME, 'inscricao').send_keys('78798564')\n",
    "\n",
    "#Descrição\n",
    "navegador.find_element(By.NAME, 'descricao').send_keys('Clareamento')\n",
    "#Quantidade\n",
    "navegador.find_element(By.NAME, 'quantidade').send_keys('3')\n",
    "#Valor Unitario\n",
    "navegador.find_element(By.NAME, 'valor_unitario').send_keys('1000')\n",
    "#Valor total\n",
    "navegador.find_element(By.NAME, 'total').send_keys('3000')\n",
    "\n",
    "#Clicar em emitir nota fiscal\n",
    "navegador.find_element(By.CLASS_NAME, 'registerbtn').click()"
   ]
  },
  {
   "cell_type": "code",
   "execution_count": null,
   "id": "24a2cd27-ac4d-41cb-b061-7c9b48f130ae",
   "metadata": {},
   "outputs": [],
   "source": []
  },
  {
   "cell_type": "code",
   "execution_count": null,
   "id": "c138d1ab-eeeb-40fc-9160-2a968c71b834",
   "metadata": {},
   "outputs": [],
   "source": []
  }
 ],
 "metadata": {
  "kernelspec": {
   "display_name": "Python 3 (ipykernel)",
   "language": "python",
   "name": "python3"
  },
  "language_info": {
   "codemirror_mode": {
    "name": "ipython",
    "version": 3
   },
   "file_extension": ".py",
   "mimetype": "text/x-python",
   "name": "python",
   "nbconvert_exporter": "python",
   "pygments_lexer": "ipython3",
   "version": "3.11.7"
  }
 },
 "nbformat": 4,
 "nbformat_minor": 5
}
